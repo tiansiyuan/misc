{
 "metadata": {
  "name": "pi"
 },
 "nbformat": 3,
 "nbformat_minor": 0,
 "worksheets": [
  {
   "cells": [
    {
     "cell_type": "code",
     "collapsed": false,
     "input": [
      "#!/usr/bin/env python\n",
      "\n",
      "pi = \"3.1415926535897932384626433832795028841971693993751058209749445923078164062862089986280348253421170679821480865132823\"\n",
      "pi = pi.replace(\".\", \"\")[:100]\n",
      "\n",
      "# initialize result as dict\n",
      "result = {str(x):0 for x in xrange(10)}\n",
      "\n",
      "for i in xrange(100):\n",
      "  result[pi[i]] += 1\n",
      "\n",
      "# for i in result.items():\n",
      "#   print i[0]\n",
      "\n",
      "print sorted(result.items(), key=lambda t: t[1], reverse=True)\n",
      "\n",
      "print result.items()"
     ],
     "language": "python",
     "metadata": {},
     "outputs": []
    }
   ],
   "metadata": {}
  }
 ]
}